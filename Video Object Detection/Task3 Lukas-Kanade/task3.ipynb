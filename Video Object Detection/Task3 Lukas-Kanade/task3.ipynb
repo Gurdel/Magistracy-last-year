{
 "cells": [
  {
   "cell_type": "code",
   "execution_count": 1,
   "metadata": {},
   "outputs": [],
   "source": [
    "import numpy as np\n",
    "import cv2"
   ]
  },
  {
   "cell_type": "code",
   "execution_count": 2,
   "metadata": {},
   "outputs": [],
   "source": [
    "cap = cv2.VideoCapture('../input_1080p.mp4')\n",
    "\n",
    "_ , prev_frame = cap.read()\n",
    "prev_frame_gray = cv2.cvtColor(prev_frame, cv2.COLOR_BGR2GRAY)\n",
    "\n",
    "#  Shi-Tomashi Corner Detection\n",
    "mask = np.zeros_like(prev_frame_gray)\n",
    "mask[400:600, 1000:1300] = 255\n",
    "n_points = 20\n",
    "kp_prev = cv2.goodFeaturesToTrack(prev_frame_gray, mask=mask.astype(np.uint8), maxCorners=n_points, qualityLevel=0.5, minDistance=50, blockSize=10)\n",
    "\n",
    "mask = np.zeros_like(prev_frame)\n",
    "color = np.random.randint(0, 255, (n_points, 3))"
   ]
  },
  {
   "cell_type": "code",
   "execution_count": 3,
   "metadata": {},
   "outputs": [
    {
     "ename": "",
     "evalue": "",
     "output_type": "error",
     "traceback": [
      "\u001b[1;31mThe Kernel crashed while executing code in the the current cell or a previous cell. Please review the code in the cell(s) to identify a possible cause of the failure. Click <a href='https://aka.ms/vscodeJupyterKernelCrash'>here</a> for more info. View Jupyter <a href='command:jupyter.viewOutput'>log</a> for further details."
     ]
    }
   ],
   "source": [
    "while(True):\n",
    "      \n",
    "    try:\n",
    "        _, frame = cap.read()\n",
    "        frame_gray = cv2.cvtColor(frame, cv2.COLOR_BGR2GRAY)\n",
    "\n",
    "        #  Lucas-Kanade optical flows calculation\n",
    "        kp, st, err = cv2.calcOpticalFlowPyrLK(prev_frame_gray, frame_gray, kp_prev, None, winSize=(15, 15), maxLevel=3, criteria=(cv2.TERM_CRITERIA_EPS | cv2.TERM_CRITERIA_COUNT, 10, 0.03))\n",
    "\n",
    "        good_new = kp[st == 1]\n",
    "        good_old = kp_prev[st == 1]\n",
    "\n",
    "        for i, (new, old) in enumerate(zip(good_new, good_old)):\n",
    "            x1, y1 = new.ravel()\n",
    "            x2, y2 = old.ravel()\n",
    "            mask = cv2.line(mask, (int(x1),int(y1)), (int(x2),int(y2)), color[i].tolist(), 2)\n",
    "            frame = cv2.circle(frame, (int(x1),int(y1)), 5, color[i].tolist(), -1)\n",
    "        img = cv2.add(frame, mask)\n",
    "        img = cv2.resize(img, (1280, 720), interpolation=cv2.INTER_AREA)\n",
    "  \n",
    "        cv2.imshow('Video', img)\n",
    "\n",
    "        prev_frame_gray = frame_gray.copy()\n",
    "        kp_prev = good_new.reshape(-1, 1, 2)\n",
    "    \n",
    "        k = cv2.waitKey(1) & 0xff\n",
    "        if k == 27:\n",
    "            break\n",
    "    except:\n",
    "        break\n",
    "  \n",
    "cv2.destroyAllWindows()\n",
    "cap.release()"
   ]
  },
  {
   "cell_type": "code",
   "execution_count": null,
   "metadata": {},
   "outputs": [],
   "source": []
  }
 ],
 "metadata": {
  "kernelspec": {
   "display_name": "Python 3",
   "language": "python",
   "name": "python3"
  },
  "language_info": {
   "codemirror_mode": {
    "name": "ipython",
    "version": 3
   },
   "file_extension": ".py",
   "mimetype": "text/x-python",
   "name": "python",
   "nbconvert_exporter": "python",
   "pygments_lexer": "ipython3",
   "version": "3.11.1"
  },
  "orig_nbformat": 4,
  "vscode": {
   "interpreter": {
    "hash": "aee8b7b246df8f9039afb4144a1f6fd8d2ca17a180786b69acc140d282b71a49"
   }
  }
 },
 "nbformat": 4,
 "nbformat_minor": 2
}
