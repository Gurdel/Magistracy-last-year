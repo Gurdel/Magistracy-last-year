{
 "cells": [
  {
   "cell_type": "code",
   "execution_count": 127,
   "metadata": {},
   "outputs": [],
   "source": [
    "import os\n",
    "import pandas as pd\n",
    "from bitarray import bitarray\n",
    "from sys import getsizeof"
   ]
  },
  {
   "cell_type": "code",
   "execution_count": 23,
   "metadata": {},
   "outputs": [
    {
     "data": {
      "text/plain": [
       "['the-adventures-of-huckleberry-finn.txt',\n",
       " 'pride-and-prejudice.txt',\n",
       " 'anna-karenina.txt',\n",
       " 'jane-eyre.txt',\n",
       " 'frankenstein.txt',\n",
       " '1984.txt',\n",
       " 'the-great-gatsby.txt',\n",
       " 'grimms-fairy-tales.txt',\n",
       " 'wuthering-heights.txt',\n",
       " 'tender-is-the-night.txt',\n",
       " 'great-expectations.txt']"
      ]
     },
     "execution_count": 23,
     "metadata": {},
     "output_type": "execute_result"
    }
   ],
   "source": [
    "data_folder_path = os.path.join('.', 'data')\n",
    "books_list = os.listdir(data_folder_path)\n",
    "books_list"
   ]
  },
  {
   "cell_type": "code",
   "execution_count": 24,
   "metadata": {},
   "outputs": [],
   "source": [
    "index = {}  #  dictionary of sets {'term': set(document_names)}\n",
    "\n",
    "def populate_index(doc_name, words):\n",
    "    for word in words:\n",
    "        if word in index:\n",
    "            index[word].add(doc_name)\n",
    "        else:\n",
    "            index[word] = set([doc_name])"
   ]
  },
  {
   "cell_type": "code",
   "execution_count": 25,
   "metadata": {},
   "outputs": [
    {
     "name": "stdout",
     "output_type": "stream",
     "text": [
      "./data/the-adventures-of-huckleberry-finn.txt\n",
      "\tTotal words count:\t 105289\n",
      "\tUniq words count:\t 6785 \n",
      "\n",
      "./data/pride-and-prejudice.txt\n",
      "\tTotal words count:\t 117752\n",
      "\tUniq words count:\t 6457 \n",
      "\n",
      "./data/anna-karenina.txt\n",
      "\tTotal words count:\t 340710\n",
      "\tUniq words count:\t 13545 \n",
      "\n",
      "./data/jane-eyre.txt\n",
      "\tTotal words count:\t 175385\n",
      "\tUniq words count:\t 13330 \n",
      "\n",
      "./data/frankenstein.txt\n",
      "\tTotal words count:\t 70739\n",
      "\tUniq words count:\t 7067 \n",
      "\n",
      "./data/1984.txt\n",
      "\tTotal words count:\t 100662\n",
      "\tUniq words count:\t 9226 \n",
      "\n",
      "./data/the-great-gatsby.txt\n",
      "\tTotal words count:\t 45918\n",
      "\tUniq words count:\t 5970 \n",
      "\n",
      "./data/grimms-fairy-tales.txt\n",
      "\tTotal words count:\t 97951\n",
      "\tUniq words count:\t 4967 \n",
      "\n",
      "./data/wuthering-heights.txt\n",
      "\tTotal words count:\t 110498\n",
      "\tUniq words count:\t 9645 \n",
      "\n",
      "./data/tender-is-the-night.txt\n",
      "\tTotal words count:\t 105141\n",
      "\tUniq words count:\t 11242 \n",
      "\n",
      "./data/great-expectations.txt\n",
      "\tTotal words count:\t 174719\n",
      "\tUniq words count:\t 11455 \n",
      "\n",
      "Dictinary length: 35961\n"
     ]
    }
   ],
   "source": [
    "import codecs\n",
    "import re\n",
    "\n",
    "dictionary = set()\n",
    "\n",
    "for book in books_list:\n",
    "    book_path = os.path.join(data_folder_path, book)\n",
    "    print(book_path)\n",
    "    with codecs.open(book_path, \"r\", \"utf_8_sig\") as fileObj:\n",
    "        text = fileObj.read()\n",
    "\n",
    "    words = re.findall(\"[a-z]+[’'-]?[a-z]+\", text.lower())\n",
    "    print('\\tTotal words count:\\t', len(words))\n",
    "    words = set(words)\n",
    "\n",
    "    #  Populate reverse index\n",
    "    populate_index(book, words)\n",
    "\n",
    "    print('\\tUniq words count:\\t', len(words), '\\n')\n",
    "    dictionary.update(words)\n",
    "\n",
    "print('Dictinary length:', len(dictionary))"
   ]
  },
  {
   "cell_type": "code",
   "execution_count": 128,
   "metadata": {},
   "outputs": [
    {
     "data": {
      "text/plain": [
       "1310808"
      ]
     },
     "execution_count": 128,
     "metadata": {},
     "output_type": "execute_result"
    }
   ],
   "source": [
    "getsizeof(index)"
   ]
  },
  {
   "cell_type": "markdown",
   "metadata": {},
   "source": [
    "## Bool search in inverted index"
   ]
  },
  {
   "cell_type": "code",
   "execution_count": 91,
   "metadata": {},
   "outputs": [
    {
     "name": "stdout",
     "output_type": "stream",
     "text": [
      "{'the-great-gatsby.txt', 'tender-is-the-night.txt', 'great-expectations.txt', 'anna-karenina.txt', 'the-adventures-of-huckleberry-finn.txt', 'frankenstein.txt', 'wuthering-heights.txt'}\n",
      "{'the-great-gatsby.txt', 'great-expectations.txt', 'pride-and-prejudice.txt', 'anna-karenina.txt', 'the-adventures-of-huckleberry-finn.txt', 'tender-is-the-night.txt'}\n",
      "{'the-great-gatsby.txt', 'anna-karenina.txt', 'the-adventures-of-huckleberry-finn.txt', 'jane-eyre.txt', 'wuthering-heights.txt'}\n"
     ]
    }
   ],
   "source": [
    "print(index['footsteps'], index['affront'], index['mellow'], sep='\\n')"
   ]
  },
  {
   "cell_type": "code",
   "execution_count": 95,
   "metadata": {},
   "outputs": [
    {
     "data": {
      "text/plain": [
       "{'1984.txt',\n",
       " 'frankenstein.txt',\n",
       " 'great-expectations.txt',\n",
       " 'grimms-fairy-tales.txt',\n",
       " 'pride-and-prejudice.txt',\n",
       " 'tender-is-the-night.txt'}"
      ]
     },
     "execution_count": 95,
     "metadata": {},
     "output_type": "execute_result"
    }
   ],
   "source": [
    "def inot(books):\n",
    "    return set(books_list)-books\n",
    "inot(index['mellow'])"
   ]
  },
  {
   "cell_type": "code",
   "execution_count": 96,
   "metadata": {},
   "outputs": [
    {
     "data": {
      "text/plain": [
       "{'anna-karenina.txt',\n",
       " 'frankenstein.txt',\n",
       " 'great-expectations.txt',\n",
       " 'pride-and-prejudice.txt',\n",
       " 'tender-is-the-night.txt',\n",
       " 'the-adventures-of-huckleberry-finn.txt',\n",
       " 'the-great-gatsby.txt',\n",
       " 'wuthering-heights.txt'}"
      ]
     },
     "execution_count": 96,
     "metadata": {},
     "output_type": "execute_result"
    }
   ],
   "source": [
    "index['footsteps'] | index['affront']"
   ]
  },
  {
   "cell_type": "code",
   "execution_count": null,
   "metadata": {},
   "outputs": [],
   "source": [
    "#  or == union\n",
    "#  and == intersection\n",
    "#  not == difference (between all documetns and sample)"
   ]
  },
  {
   "cell_type": "code",
   "execution_count": 97,
   "metadata": {},
   "outputs": [
    {
     "data": {
      "text/plain": [
       "{'frankenstein.txt',\n",
       " 'great-expectations.txt',\n",
       " 'pride-and-prejudice.txt',\n",
       " 'tender-is-the-night.txt'}"
      ]
     },
     "execution_count": 97,
     "metadata": {},
     "output_type": "execute_result"
    }
   ],
   "source": [
    "#  word1 or word2 and not word3\n",
    "(index['footsteps'] | index['affront']) & inot(index['mellow'])"
   ]
  },
  {
   "cell_type": "markdown",
   "metadata": {},
   "source": [
    "## Bool search in incidence matrix"
   ]
  },
  {
   "cell_type": "code",
   "execution_count": 113,
   "metadata": {},
   "outputs": [],
   "source": [
    "documetn_count = len(books_list)\n",
    "document_index = {books_list[i]: i for i in range(documetn_count)}\n",
    "terms = list(dictionary)\n",
    "term_index = {terms[i]: i for i in range(len(terms))}\n",
    "\n",
    "matrix = []\n",
    "for i in range(len(terms)):\n",
    "    matrix.append(documetn_count * bitarray('0'))\n",
    "    for doc in index[terms[i]]:\n",
    "        matrix[i][document_index[doc]] = 1\n"
   ]
  },
  {
   "cell_type": "code",
   "execution_count": 129,
   "metadata": {},
   "outputs": [
    {
     "data": {
      "text/plain": [
       "312024"
      ]
     },
     "execution_count": 129,
     "metadata": {},
     "output_type": "execute_result"
    }
   ],
   "source": [
    "getsizeof(matrix)"
   ]
  },
  {
   "cell_type": "code",
   "execution_count": 134,
   "metadata": {},
   "outputs": [
    {
     "data": {
      "text/plain": [
       "2097368"
      ]
     },
     "execution_count": 134,
     "metadata": {},
     "output_type": "execute_result"
    }
   ],
   "source": [
    "getsizeof(dictionary)"
   ]
  },
  {
   "cell_type": "code",
   "execution_count": 135,
   "metadata": {},
   "outputs": [
    {
     "data": {
      "text/plain": [
       "(35961, 35961)"
      ]
     },
     "execution_count": 135,
     "metadata": {},
     "output_type": "execute_result"
    }
   ],
   "source": [
    "len(dictionary), len(term_index)"
   ]
  },
  {
   "cell_type": "code",
   "execution_count": 133,
   "metadata": {},
   "outputs": [
    {
     "name": "stdout",
     "output_type": "stream",
     "text": [
      "getsizeof(document_index)=640\n",
      "getsizeof(term_index)=1310808\n",
      "getsizeof(books_list)=184\n",
      "getsizeof(terms)=287752\n"
     ]
    }
   ],
   "source": [
    "print(f'{getsizeof(document_index)=}\\n{getsizeof(term_index)=}\\n{getsizeof(books_list)=}\\n{getsizeof(terms)=}')"
   ]
  },
  {
   "cell_type": "code",
   "execution_count": 130,
   "metadata": {},
   "outputs": [
    {
     "data": {
      "text/plain": [
       "1599384"
      ]
     },
     "execution_count": 130,
     "metadata": {},
     "output_type": "execute_result"
    }
   ],
   "source": [
    "getsizeof(document_index) + getsizeof(term_index) + getsizeof(books_list) + getsizeof(terms)"
   ]
  },
  {
   "cell_type": "code",
   "execution_count": 119,
   "metadata": {},
   "outputs": [
    {
     "name": "stdout",
     "output_type": "stream",
     "text": [
      "bitarray('10101010111') bitarray('11100010011') bitarray('10110010100')\n"
     ]
    }
   ],
   "source": [
    "print(matrix[term_index['footsteps']], matrix[term_index['affront']], matrix[term_index['mellow']])"
   ]
  },
  {
   "cell_type": "code",
   "execution_count": 123,
   "metadata": {},
   "outputs": [
    {
     "data": {
      "text/plain": [
       "bitarray('11101010111')"
      ]
     },
     "execution_count": 123,
     "metadata": {},
     "output_type": "execute_result"
    }
   ],
   "source": [
    "matrix[term_index['footsteps']] | matrix[term_index['affront']]"
   ]
  },
  {
   "cell_type": "code",
   "execution_count": 120,
   "metadata": {},
   "outputs": [
    {
     "data": {
      "text/plain": [
       "bitarray('01001101011')"
      ]
     },
     "execution_count": 120,
     "metadata": {},
     "output_type": "execute_result"
    }
   ],
   "source": [
    "~matrix[term_index['mellow']]"
   ]
  },
  {
   "cell_type": "code",
   "execution_count": 125,
   "metadata": {},
   "outputs": [
    {
     "data": {
      "text/plain": [
       "bitarray('01001000011')"
      ]
     },
     "execution_count": 125,
     "metadata": {},
     "output_type": "execute_result"
    }
   ],
   "source": [
    "#  word1 or word2 and not word3\n",
    "search_result = (matrix[term_index['footsteps']] | matrix[term_index['affront']]) & ~matrix[term_index['mellow']]\n",
    "search_result"
   ]
  },
  {
   "cell_type": "code",
   "execution_count": 126,
   "metadata": {},
   "outputs": [
    {
     "data": {
      "text/plain": [
       "['pride-and-prejudice.txt',\n",
       " 'frankenstein.txt',\n",
       " 'tender-is-the-night.txt',\n",
       " 'great-expectations.txt']"
      ]
     },
     "execution_count": 126,
     "metadata": {},
     "output_type": "execute_result"
    }
   ],
   "source": [
    "def get_document_list(search_result):\n",
    "    documents = []\n",
    "    for i in range(len(search_result)):\n",
    "        if search_result[i]:\n",
    "            documents.append(books_list[i])\n",
    "    return documents\n",
    "get_document_list(search_result)"
   ]
  },
  {
   "cell_type": "code",
   "execution_count": null,
   "metadata": {},
   "outputs": [],
   "source": []
  }
 ],
 "metadata": {
  "kernelspec": {
   "display_name": "Python 3.10.7 64-bit",
   "language": "python",
   "name": "python3"
  },
  "language_info": {
   "codemirror_mode": {
    "name": "ipython",
    "version": 3
   },
   "file_extension": ".py",
   "mimetype": "text/x-python",
   "name": "python",
   "nbconvert_exporter": "python",
   "pygments_lexer": "ipython3",
   "version": "3.10.7"
  },
  "orig_nbformat": 4,
  "vscode": {
   "interpreter": {
    "hash": "aee8b7b246df8f9039afb4144a1f6fd8d2ca17a180786b69acc140d282b71a49"
   }
  }
 },
 "nbformat": 4,
 "nbformat_minor": 2
}
