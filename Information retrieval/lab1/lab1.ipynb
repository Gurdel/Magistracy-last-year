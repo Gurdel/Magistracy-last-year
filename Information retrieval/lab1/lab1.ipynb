{
 "cells": [
  {
   "cell_type": "code",
   "execution_count": 1,
   "metadata": {},
   "outputs": [
    {
     "data": {
      "text/plain": [
       "['1984.txt',\n",
       " 'anna-karenina.txt',\n",
       " 'frankenstein.txt',\n",
       " 'great-expectations.txt',\n",
       " 'grimms-fairy-tales.txt',\n",
       " 'jane-eyre.txt',\n",
       " 'pride-and-prejudice.txt',\n",
       " 'tender-is-the-night.txt',\n",
       " 'the-adventures-of-huckleberry-finn.txt',\n",
       " 'the-great-gatsby.txt',\n",
       " 'wuthering-heights.txt']"
      ]
     },
     "execution_count": 1,
     "metadata": {},
     "output_type": "execute_result"
    }
   ],
   "source": [
    "import os\n",
    "\n",
    "data_folder_path = '.\\\\data'\n",
    "books_list = os.listdir(data_folder_path)\n",
    "books_list"
   ]
  },
  {
   "cell_type": "code",
   "execution_count": 23,
   "metadata": {},
   "outputs": [
    {
     "name": "stdout",
     "output_type": "stream",
     "text": [
      ".\\data\\1984.txt\n",
      "\tTotal words count:\t 100662\n",
      "\tUniq words count:\t 9226 \n",
      "\n",
      ".\\data\\anna-karenina.txt\n",
      "\tTotal words count:\t 340710\n",
      "\tUniq words count:\t 13545 \n",
      "\n",
      ".\\data\\frankenstein.txt\n",
      "\tTotal words count:\t 70739\n",
      "\tUniq words count:\t 7067 \n",
      "\n",
      ".\\data\\great-expectations.txt\n",
      "\tTotal words count:\t 174719\n",
      "\tUniq words count:\t 11455 \n",
      "\n",
      ".\\data\\grimms-fairy-tales.txt\n",
      "\tTotal words count:\t 97951\n",
      "\tUniq words count:\t 4967 \n",
      "\n",
      ".\\data\\jane-eyre.txt\n",
      "\tTotal words count:\t 175385\n",
      "\tUniq words count:\t 13330 \n",
      "\n",
      ".\\data\\pride-and-prejudice.txt\n",
      "\tTotal words count:\t 117752\n",
      "\tUniq words count:\t 6457 \n",
      "\n",
      ".\\data\\tender-is-the-night.txt\n",
      "\tTotal words count:\t 105141\n",
      "\tUniq words count:\t 11242 \n",
      "\n",
      ".\\data\\the-adventures-of-huckleberry-finn.txt\n",
      "\tTotal words count:\t 105289\n",
      "\tUniq words count:\t 6785 \n",
      "\n",
      ".\\data\\the-great-gatsby.txt\n",
      "\tTotal words count:\t 45918\n",
      "\tUniq words count:\t 5970 \n",
      "\n",
      ".\\data\\wuthering-heights.txt\n",
      "\tTotal words count:\t 110498\n",
      "\tUniq words count:\t 9645 \n",
      "\n",
      "Dictinary length: 35961\n"
     ]
    }
   ],
   "source": [
    "import codecs\n",
    "import re\n",
    "\n",
    "dictionary = set()\n",
    "\n",
    "for book in books_list:\n",
    "    book_path = os.path.join(data_folder_path, book)\n",
    "    print(book_path)\n",
    "    fileObj = codecs.open(book_path, \"r\", \"utf_8_sig\")\n",
    "    text = fileObj.read()\n",
    "    fileObj.close()\n",
    "\n",
    "    words = re.findall(\"[a-z]+[’'-]?[a-z]+\", text.lower())\n",
    "    print('\\tTotal words count:\\t', len(words))\n",
    "    words = set(words)\n",
    "    print('\\tUniq words count:\\t', len(words), '\\n')\n",
    "    dictionary.update(words)\n",
    "\n",
    "print('Dictinary length:', len(dictionary))"
   ]
  },
  {
   "cell_type": "code",
   "execution_count": null,
   "metadata": {},
   "outputs": [],
   "source": []
  }
 ],
 "metadata": {
  "kernelspec": {
   "display_name": "Python 3.10.7 64-bit (microsoft store)",
   "language": "python",
   "name": "python3"
  },
  "language_info": {
   "codemirror_mode": {
    "name": "ipython",
    "version": 3
   },
   "file_extension": ".py",
   "mimetype": "text/x-python",
   "name": "python",
   "nbconvert_exporter": "python",
   "pygments_lexer": "ipython3",
   "version": "3.10.7"
  },
  "orig_nbformat": 4,
  "vscode": {
   "interpreter": {
    "hash": "d9aeca80d4f6cb6a59ffaa8e22e33a5552df657e2cddf01a3d6863386e35b3dd"
   }
  }
 },
 "nbformat": 4,
 "nbformat_minor": 2
}
