{
 "cells": [
  {
   "cell_type": "code",
   "execution_count": 38,
   "metadata": {},
   "outputs": [],
   "source": [
    "class Node:\n",
    "    def __init__(self, key):\n",
    "        self.key = key\n",
    "        self.terms = set()\n",
    "        self.childs = dict()"
   ]
  },
  {
   "cell_type": "code",
   "execution_count": 39,
   "metadata": {},
   "outputs": [],
   "source": [
    "class Tree:\n",
    "    def __init__(self) -> None:\n",
    "        self.root = Node('')\n",
    "    \n",
    "    def populate_tree(self, terms_list):\n",
    "        for term in terms_list:\n",
    "            self.insert_term(term, term, self.root)\n",
    "    \n",
    "    def insert_term(self, key, term, node=None):\n",
    "        if node is None:\n",
    "            return self.insert_term(key, term, self.root)\n",
    "\n",
    "        if not key:\n",
    "            node.terms.add(term)\n",
    "            return\n",
    "        if key[0] in node.childs:\n",
    "            self.insert_term(key[1:], term, node.childs[key[0]])\n",
    "        else:\n",
    "            node.childs[key[0]] = Node(key[0])\n",
    "            self.insert_term(key[1:], term, node.childs[key[0]])\n",
    "    \n",
    "    def visual_tree(self, node=None):\n",
    "        # print(type(node))\n",
    "        if node is None:\n",
    "            self.visual_tree(self.root)\n",
    "            return\n",
    "        # print(node.key, node.terms)\n",
    "        for child in node.childs.values():\n",
    "            self.visual_tree(child)\n",
    "    \n",
    "    def find_terms(self, term, node=None):\n",
    "        if node is None:\n",
    "            # print('node is None')\n",
    "            return self.find_terms(term, self.root)\n",
    "        \n",
    "        if not term:\n",
    "            # print('empty term\\tnode.key=', node.key)\n",
    "            result = node.terms\n",
    "            for child in node.childs.values():\n",
    "                result.update(self.find_terms(term, child))\n",
    "            return result\n",
    "        \n",
    "        # print('term=', term, '\\tnode.key=', node.key)\n",
    "        if term[0] not in node.childs:\n",
    "            return set()\n",
    "        return self.find_terms(term[1:], node.childs[term[0]])\n"
   ]
  },
  {
   "cell_type": "code",
   "execution_count": 40,
   "metadata": {},
   "outputs": [],
   "source": [
    "class TranspositionIndex:\n",
    "    def __init__(self):\n",
    "        self.index = Tree()\n",
    "    \n",
    "    def transpose_term(self, term):\n",
    "        term += '$'\n",
    "        transponsed = [term[i:] + term[:i] for i in range(len(term))]\n",
    "        # print(transponsed)\n",
    "        return transponsed\n",
    "    \n",
    "    def populate_index(self, term_list):\n",
    "        for term in term_list:\n",
    "            for el in self.transpose_term(term):\n",
    "                self.index.insert_term(el, term)\n",
    "    \n",
    "    def show_index(self):\n",
    "        self.index.visual_tree()\n",
    "    \n",
    "    def find_term(self, term):\n",
    "        term += '$'\n",
    "\n",
    "        if '*' in term:\n",
    "            spl = term.split('*')\n",
    "            result = self.index.find_terms(spl[-1]+spl[0])\n",
    "        else:\n",
    "            result = self.index.find_terms(term)\n",
    "        return result"
   ]
  },
  {
   "cell_type": "code",
   "execution_count": 41,
   "metadata": {},
   "outputs": [],
   "source": [
    "class ThreeGramIndex:\n",
    "    def __init__(self):\n",
    "        self.index = Tree()\n",
    "    \n",
    "    def get_grammes(self, term, k=3):\n",
    "        length = len(term)\n",
    "        grammes = [term[i:i+k]for i in range(length-k+1)]\n",
    "        # print(grammes)\n",
    "        return grammes\n",
    "    \n",
    "    def populate_index(self, term_list):\n",
    "        for term in term_list:\n",
    "            for el in self.get_grammes('$' + term + '$'):\n",
    "                self.index.insert_term(el, term)\n",
    "    \n",
    "    def show_index(self):\n",
    "        self.index.visual_tree()\n",
    "    \n",
    "    def find_term(self, term):\n",
    "        term = '$' + term + '$'\n",
    "        result = None\n",
    "\n",
    "        if '*' in term:\n",
    "            spl = term.split('*')\n",
    "            for el in spl:\n",
    "                if len(el)<3:\n",
    "                    continue\n",
    "                for g in self.get_grammes(el):\n",
    "                    if result is None:\n",
    "                        result = self.index.find_terms(g)\n",
    "                    else:\n",
    "                        result &= self.index.find_terms(g)\n",
    "        else:\n",
    "            for g in self.get_grammes(term):\n",
    "                if result is None:\n",
    "                    result = self.index.find_terms(g)\n",
    "                else:\n",
    "                    result &= self.index.find_terms(g)\n",
    "        \n",
    "        return result"
   ]
  },
  {
   "cell_type": "code",
   "execution_count": 42,
   "metadata": {},
   "outputs": [],
   "source": [
    "class SuffixTree:\n",
    "    def __init__(self) -> None:\n",
    "        self.index = Tree()\n",
    "        self.reverse_index = Tree()\n",
    "    \n",
    "    def populate_index(self, term_list):\n",
    "        for term in term_list:\n",
    "            self.index.insert_term(term, term)\n",
    "            self.reverse_index.insert_term(term[::-1], term)\n",
    "    \n",
    "    def show_index(self):\n",
    "        print('tree')\n",
    "        self.index.visual_tree()\n",
    "        print('reverse tree')\n",
    "        self.reverse_index.visual_tree()\n",
    "    \n",
    "    def find_term(self, term):\n",
    "        if '*' in term:\n",
    "            spl = term.split('*')\n",
    "            result = self.index.find_terms(spl[0]) & self.reverse_index.find_terms(spl[-1][::-1])\n",
    "        else:\n",
    "            result = self.index.find_terms(term) & self.reverse_index.find_terms(term[::-1])\n",
    "        \n",
    "        return result"
   ]
  },
  {
   "cell_type": "code",
   "execution_count": 43,
   "metadata": {},
   "outputs": [],
   "source": [
    "import codecs\n",
    "import re\n",
    "import os\n",
    "\n",
    "tr_index = TranspositionIndex()\n",
    "thrg_index = ThreeGramIndex()\n",
    "suf_tree = SuffixTree()\n",
    "dictionary = set()\n",
    "\n",
    "data_folder_path = os.path.join('.', 'data')\n",
    "books_list = os.listdir(data_folder_path)\n",
    "\n",
    "for book in books_list:\n",
    "    book_path = os.path.join(data_folder_path, book)\n",
    "    with codecs.open(book_path, \"r\", \"utf_8_sig\") as fileObj:\n",
    "        text = fileObj.read()\n",
    "\n",
    "    words = re.findall(\"[a-z]+[’'-]?[a-z]+\", text.lower())\n",
    "    words = set(words)\n",
    "    dictionary.update(words)\n",
    "    \n",
    "    tr_index.populate_index(words)\n",
    "    thrg_index.populate_index(words)\n",
    "    suf_tree.populate_index(words)"
   ]
  },
  {
   "cell_type": "code",
   "execution_count": 44,
   "metadata": {},
   "outputs": [],
   "source": [
    "def visual_set(sett, k=14):\n",
    "    if not sett:\n",
    "        return\n",
    "    i = k+1\n",
    "    for el in sett:\n",
    "        i -= 1\n",
    "        if not i: break \n",
    "        print(el, end=', ')"
   ]
  },
  {
   "cell_type": "code",
   "execution_count": 45,
   "metadata": {},
   "outputs": [
    {
     "name": "stdout",
     "output_type": "stream",
     "text": [
      "irregularities, re-transformed, holly, indiscreet, guelder-rose, helicopters, meat-pies, iron-gray, bag, famed, quiz, increases, blotting-book, counterpanes, "
     ]
    }
   ],
   "source": [
    "visual_set(dictionary)"
   ]
  },
  {
   "cell_type": "code",
   "execution_count": 46,
   "metadata": {},
   "outputs": [],
   "source": [
    "def test_structure(struct):\n",
    "    terms = (\n",
    "        'persons',\n",
    "        '*ersons',\n",
    "        'per*ons',\n",
    "        'person*',\n",
    "        '*erson*',\n",
    "        'pe*s*s',\n",
    "        '*e*s',\n",
    "        'p*o*',\n",
    "    )\n",
    "    for t in terms:\n",
    "        res = struct.find_term(t)\n",
    "        print(t, end='\\t{')\n",
    "        visual_set(res)\n",
    "        print('}')"
   ]
  },
  {
   "cell_type": "code",
   "execution_count": 47,
   "metadata": {},
   "outputs": [
    {
     "name": "stdout",
     "output_type": "stream",
     "text": [
      "\t--- \t Перестановочний індекс \t ---\t\n",
      "persons\t{persons, unpersons, }\n",
      "*ersons\t{persons, unpersons, }\n",
      "per*ons\t{persons, persecutions, percussions, perambulations, perfections, persuasions, perceptions, perversions, personifications, }\n",
      "person*\t{persons, personne, personalities, personally, personable, persona, person’s, personal, personified, personated, personality, personage, personifications, personification, }\n",
      "*erson*\t{wrathfully, irregularities, re-transformed, holly, landfall, enamelled, indiscreet, waiting, stair-rails, guelder-rose, clump, helicopters, trio, neighboring, }\n",
      "pe*s*s\t{perkins, peddlers, penurious, perambulations, persists, penitentials, peculiarities, pennies, perversions, pens, pettishness, petrov’s, petitioners, perils, }\n",
      "*e*s\t{quinns, tops, george’s, savors, relatives, irregularities, points, suffers, grates, dismissals, supporters, griffins, partnerships, stair-rails, }\n",
      "p*o*\t{preyed, points, paroxysm, pause, partnerships, penseur, phantoms, painted, pearl-like, pilgrim, pecuniary, plights, presents, parrying, }\n",
      "\n",
      "\t--- \t Триграмний індекс \t ---\t\n",
      "persons\t{persons, personifications, }\n",
      "*ersons\t{unpersons, personifications, persons, }\n",
      "per*ons\t{persons, personifications, }\n",
      "person*\t{persons, personifications, }\n",
      "*erson*\t{unpersons, personifications, persons, }\n",
      "pe*s*s\t{persons, personifications, }\n",
      "*e*s\t{}\n",
      "p*o*\t{}\n",
      "\n",
      "\t--- \t Суфіксне дерево \t ---\t\n",
      "persons\t{persons, }\n",
      "*ersons\t{persons, unpersons, }\n",
      "per*ons\t{persons, persecutions, percussions, perambulations, perfections, persuasions, perceptions, perversions, personifications, }\n",
      "person*\t{persons, personne, personalities, personally, personable, persona, person’s, personal, personified, personated, personality, personage, personifications, personification, }\n",
      "*erson*\t{irregularities, re-transformed, holly, indiscreet, guelder-rose, helicopters, iron-gray, meat-pies, bag, famed, quiz, increases, counterpanes, est-ce, }\n",
      "pe*s*s\t{perkins, peddlers, perambulations, petrov’s, perils, pendulous, petritsky’s, peaks, pensions, pea-chicks, peaches, peonies, persuasions, perceptions, }\n",
      "*e*s\t{irregularities, supporters, man-eaters, partnerships, stair-rails, helicopters, meat-pies, phantoms, guns, methods, death’s, increases, counterpanes, flatness, }\n",
      "p*o*\t{preyed, points, paroxysm, pause, partnerships, penseur, phantoms, pearl-like, painted, pilgrim, pecuniary, plights, presents, parrying, }\n"
     ]
    }
   ],
   "source": [
    "print('\\t--- \\t Перестановочний індекс \\t ---\\t')\n",
    "test_structure(tr_index)\n",
    "print('\\n\\t--- \\t Триграмний індекс \\t ---\\t')\n",
    "test_structure(thrg_index)\n",
    "print('\\n\\t--- \\t Суфіксне дерево \\t ---\\t')\n",
    "test_structure(suf_tree)\n"
   ]
  },
  {
   "cell_type": "code",
   "execution_count": 95,
   "metadata": {},
   "outputs": [
    {
     "name": "stdout",
     "output_type": "stream",
     "text": [
      "{'petites', 'performances', 'petitioners', 'peignoirs', 'peterson’s', 'pears', 'pencils', 'peewits', 'pers', 'pegs', 'perhaps', 'peer’s', 'perversions', 'pews', 'perishes', 'peeress', 'perfumer’s', 'personalities', 'pervious', 'peers', 'pets', 'peaches', 'perceives', 'petrovs', 'petrovna’s', 'pebble-stones', 'pecks', 'penalties', 'pertinacious', 'peelings', 'pettishness', 'petritsky’s', 'per’aps', 'persons', 'personifications', 'personages', 'perplexities', 'perrin’s', 'pearls', 'petitions', 'pennies', 'perfidious', 'peters', 'performs', 'perceptions', 'periodicals', 'perfections', 'peasant’s', 'perilous', 'petrov’s', 'peacemakers', 'pertains', 'petticoats', 'persecutors', 'pebbles', 'penknives', 'peter’s', 'perils', 'periods', 'pedant’s', 'peculiarities', 'petits', 'petitioner’s', 'pewter-dishes', 'petals', 'petersburg’s', 'perkins', 'person’s', 'pedlars', 'peddles', 'peals', 'pelisses', 'penurious', 'permits', 'pedestals', 'perambulations', 'persuades', 'percussions', 'peoples', 'penitentials', 'persists', 'performer’s', 'pendulous', 'peevishness', 'peas', 'peraps', 'performers', 'perverseness', 'persians', 'persecutions', 'pea-chicks', 'persuasions', 'peerless', 'peasants', 'pertness', 'petrovitch’s', 'pew’s', 'peaks', 'pensions', 'penniless', 'pernicious', 'pea-coats', 'people’s', 'peonies', 'pens', 'peddlers', 'perplexes'}\n",
      "['peterson’s', 'perversions', 'perishes', 'peeress', 'personalities', 'pebble-stones', 'pettishness', 'petritsky’s', 'persons', 'personifications', 'personages', 'peasant’s', 'persecutors', 'pewter-dishes', 'petersburg’s', 'person’s', 'pelisses', 'pedestals', 'persuades', 'percussions', 'persists', 'peevishness', 'perverseness', 'persians', 'persecutions', 'persuasions', 'peerless', 'peasants', 'pertness', 'pensions', 'penniless']\n"
     ]
    }
   ],
   "source": [
    "import re\n",
    "\n",
    "pattern = 'pe*s*s'\n",
    "res = tr_index.find_term(pattern)\n",
    "print(res)\n",
    "filtered_res = [t for t in res if re.match(pattern.replace('*', '.*'), t)]\n",
    "print(filtered_res)\n"
   ]
  },
  {
   "cell_type": "code",
   "execution_count": null,
   "metadata": {},
   "outputs": [],
   "source": []
  }
 ],
 "metadata": {
  "kernelspec": {
   "display_name": "Python 3.10.7 64-bit",
   "language": "python",
   "name": "python3"
  },
  "language_info": {
   "codemirror_mode": {
    "name": "ipython",
    "version": 3
   },
   "file_extension": ".py",
   "mimetype": "text/x-python",
   "name": "python",
   "nbconvert_exporter": "python",
   "pygments_lexer": "ipython3",
   "version": "3.10.7"
  },
  "orig_nbformat": 4,
  "vscode": {
   "interpreter": {
    "hash": "aee8b7b246df8f9039afb4144a1f6fd8d2ca17a180786b69acc140d282b71a49"
   }
  }
 },
 "nbformat": 4,
 "nbformat_minor": 2
}
