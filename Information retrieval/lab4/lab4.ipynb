{
 "cells": [
  {
   "cell_type": "markdown",
   "metadata": {},
   "source": [
    "- Побудувати суфіксне дерево термінів словника\n",
    "- Побудувати перестановочний індекс для словника\n",
    "- Побудувати 3-грамний індекс для словника\n",
    "\n",
    "Реалізувати підтримку запитів з джокерами"
   ]
  },
  {
   "cell_type": "code",
   "execution_count": null,
   "metadata": {},
   "outputs": [],
   "source": []
  }
 ],
 "metadata": {
  "language_info": {
   "name": "python"
  },
  "orig_nbformat": 4
 },
 "nbformat": 4,
 "nbformat_minor": 2
}
