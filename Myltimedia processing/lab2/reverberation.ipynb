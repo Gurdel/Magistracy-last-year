{
 "cells": [
  {
   "cell_type": "code",
   "execution_count": 7,
   "metadata": {},
   "outputs": [],
   "source": [
    "from pedalboard import Pedalboard, Chorus, Reverb\n",
    "from pedalboard.io import AudioFile\n",
    "\n",
    "# Read in a whole audio file:\n",
    "with AudioFile('test2.wav') as f:\n",
    "  audio = f.read(f.frames)\n",
    "  samplerate = f.samplerate\n",
    "\n",
    "# Make a Pedalboard object, containing multiple plugins:\n",
    "board = Pedalboard([Reverb(room_size=0.9)])\n",
    "# board = Pedalboard([Chorus()])\n",
    "\n",
    "# Run the audio through this pedalboard!\n",
    "effected = board(audio, samplerate)\n",
    "\n",
    "# Write the audio back as a wav file:\n",
    "with AudioFile('processed-output.wav', 'w', samplerate, effected.shape[0]) as f:\n",
    "  f.write(effected)"
   ]
  },
  {
   "cell_type": "code",
   "execution_count": null,
   "metadata": {},
   "outputs": [],
   "source": []
  }
 ],
 "metadata": {
  "kernelspec": {
   "display_name": "Python 3.10.7 64-bit",
   "language": "python",
   "name": "python3"
  },
  "language_info": {
   "codemirror_mode": {
    "name": "ipython",
    "version": 3
   },
   "file_extension": ".py",
   "mimetype": "text/x-python",
   "name": "python",
   "nbconvert_exporter": "python",
   "pygments_lexer": "ipython3",
   "version": "3.10.7"
  },
  "orig_nbformat": 4,
  "vscode": {
   "interpreter": {
    "hash": "aee8b7b246df8f9039afb4144a1f6fd8d2ca17a180786b69acc140d282b71a49"
   }
  }
 },
 "nbformat": 4,
 "nbformat_minor": 2
}
