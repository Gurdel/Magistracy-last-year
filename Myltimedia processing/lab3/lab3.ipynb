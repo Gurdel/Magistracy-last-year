{
 "cells": [
  {
   "cell_type": "markdown",
   "metadata": {},
   "source": [
    "Завдання 3. Реалізувати одну або декілька задач (за вибором):\n",
    "\n",
    "3. Синтезатор. Розробити елементи власного синтезатора музикального інструменту."
   ]
  },
  {
   "cell_type": "code",
   "execution_count": 37,
   "metadata": {},
   "outputs": [],
   "source": [
    "import numpy as np\n",
    "import pygame"
   ]
  },
  {
   "cell_type": "code",
   "execution_count": 38,
   "metadata": {},
   "outputs": [
    {
     "data": {
      "text/plain": [
       "array([261.6255653 , 293.66476792, 329.62755691, 349.22823143,\n",
       "       391.99543598, 440.        , 493.88330126])"
      ]
     },
     "execution_count": 38,
     "metadata": {},
     "output_type": "execute_result"
    }
   ],
   "source": [
    "RATE = 44100\n",
    "DURATION = 2\n",
    "\n",
    "n = np.array([-9, -7, -5, -4, -2, 0, 2])\n",
    "frequencies = 440 * np.power(2 ** (1/12), n)\n",
    "frequencies"
   ]
  },
  {
   "cell_type": "code",
   "execution_count": 39,
   "metadata": {},
   "outputs": [],
   "source": [
    "sounds = []\n",
    "for freq in frequencies:\n",
    "    N = int(RATE/freq)\n",
    "    n = int(RATE*DURATION)\n",
    "\n",
    "    noise = np.random.uniform(-1, 1, N)\n",
    "    y = np.zeros(n)\n",
    "\n",
    "    for i in range(N):\n",
    "        y[i] = noise[i]\n",
    "\n",
    "    for i in range(N, n):\n",
    "        y[i] = 0.996 * (y[i-N] + y[i-(N+1)]) / 2\n",
    " \n",
    "    y /= np.max(np.abs(y))\n",
    "    y = np.asarray([32767*y, 32767*y]).T.astype(np.int16)\n",
    "    sounds.append(y)"
   ]
  },
  {
   "cell_type": "code",
   "execution_count": 40,
   "metadata": {},
   "outputs": [],
   "source": [
    "keys = 'asdfghjkl'[:len(sounds)]\n",
    "ord_list = [ord(key) for key in keys]\n",
    "key_pressed = {key:False for key in ord_list}\n",
    "key_sound = {ord_list[i]:sounds[i] for i in range(len(sounds))}\n",
    "\n",
    "pygame.init()\n",
    "pygame.mixer.init()\n",
    "window_size = 320, 240\n",
    "screen = pygame.display.set_mode(window_size)\n",
    "pygame.display.flip()\n",
    "\n",
    "running = True\n",
    "while running:\n",
    "    for event in pygame.event.get():\n",
    "        if event.type == pygame.QUIT:\n",
    "            running = False\n",
    "        \n",
    "        if event.type == pygame.KEYDOWN:\n",
    "            if event.key == ord('q'):\n",
    "                running = False\n",
    "\n",
    "            if event.key in key_pressed:\n",
    "                key_pressed[event.key] = True\n",
    "            \n",
    "        if event.type == pygame.KEYUP:\n",
    "            if event.key in key_pressed:\n",
    "                key_pressed[event.key] = False\n",
    "\n",
    "    mixed_sound = np.zeros(round(DURATION * RATE))\n",
    "    count = 0\n",
    "    for key in key_pressed:\n",
    "        if key_pressed[key]:\n",
    "            pygame.sndarray.make_sound(key_sound[key].copy()).play()\n",
    "    #         count += 1\n",
    "    #         mixed_sound += key_sound[key]\n",
    "    # if count > 0:\n",
    "    #     mixed_sound /= count\n",
    "    # sound = np.asarray([32767*mixed_sound, 32767*mixed_sound]).T.astype(np.int16)\n",
    "    # pygame.sndarray.make_sound(sound.copy()).play()\n",
    "\n",
    "pygame.quit()"
   ]
  },
  {
   "cell_type": "code",
   "execution_count": null,
   "metadata": {},
   "outputs": [],
   "source": []
  }
 ],
 "metadata": {
  "kernelspec": {
   "display_name": "Python 3.10.7 64-bit",
   "language": "python",
   "name": "python3"
  },
  "language_info": {
   "codemirror_mode": {
    "name": "ipython",
    "version": 3
   },
   "file_extension": ".py",
   "mimetype": "text/x-python",
   "name": "python",
   "nbconvert_exporter": "python",
   "pygments_lexer": "ipython3",
   "version": "3.10.7"
  },
  "orig_nbformat": 4,
  "vscode": {
   "interpreter": {
    "hash": "aee8b7b246df8f9039afb4144a1f6fd8d2ca17a180786b69acc140d282b71a49"
   }
  }
 },
 "nbformat": 4,
 "nbformat_minor": 2
}
