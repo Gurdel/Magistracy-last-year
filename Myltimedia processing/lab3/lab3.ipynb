{
 "cells": [
  {
   "cell_type": "markdown",
   "metadata": {},
   "source": [
    "Завдання 3. Реалізувати одну або декілька задач (за вибором):\n",
    "\n",
    "3. Синтезатор. Розробити елементи власного синтезатора музикального інструменту."
   ]
  },
  {
   "cell_type": "code",
   "execution_count": 16,
   "metadata": {},
   "outputs": [],
   "source": [
    "import numpy as np\n",
    "import pyaudio as pa\n",
    "import pygame"
   ]
  },
  {
   "cell_type": "code",
   "execution_count": 17,
   "metadata": {},
   "outputs": [
    {
     "data": {
      "text/plain": [
       "array([261.6255653 , 293.66476792, 329.62755691, 349.22823143,\n",
       "       391.99543598, 440.        , 493.88330126])"
      ]
     },
     "execution_count": 17,
     "metadata": {},
     "output_type": "execute_result"
    }
   ],
   "source": [
    "RATE = 44100\n",
    "DURATION = 1/2\n",
    "AMPLITUDE = 2 ** 16\n",
    "\n",
    "n = np.array([-9, -7, -5, -4, -2, 0, 2])\n",
    "frequencies = 440 * np.power(2 ** (1/12), n)\n",
    "frequencies"
   ]
  },
  {
   "cell_type": "code",
   "execution_count": 18,
   "metadata": {},
   "outputs": [],
   "source": [
    "pygame.init()\n",
    "pygame.mixer.init()\n",
    "\n",
    "sounds = []\n",
    "for freq in frequencies:\n",
    "    note = np.sin(2 * np.pi * freq * np.linspace(0, DURATION, round(DURATION * RATE)))\n",
    "    # sound = np.array(note, dtype=np.int16)\n",
    "    # sound = np.asarray([32767*note, 32767*note]).T.astype(np.int16)\n",
    "    # sound = pygame.sndarray.make_sound(sound.copy())\n",
    "    sounds.append(note)"
   ]
  },
  {
   "cell_type": "code",
   "execution_count": 19,
   "metadata": {},
   "outputs": [
    {
     "data": {
      "text/plain": [
       "array([ 0.        ,  0.03726838,  0.07448499, ..., -0.94926027,\n",
       "       -0.93688022, -0.92319845])"
      ]
     },
     "execution_count": 19,
     "metadata": {},
     "output_type": "execute_result"
    }
   ],
   "source": [
    "sounds[0]"
   ]
  },
  {
   "cell_type": "code",
   "execution_count": 20,
   "metadata": {},
   "outputs": [
    {
     "name": "stderr",
     "output_type": "stream",
     "text": [
      "/var/folders/7l/ngvfjxqd08lbrvzywpzh7pfr0000gn/T/ipykernel_21272/1959979102.py:36: RuntimeWarning: invalid value encountered in divide\n",
      "  mixed_sound /= count\n"
     ]
    }
   ],
   "source": [
    "keys = 'asdfghjkl'[:len(sounds)]\n",
    "ord_list = [ord(key) for key in keys]\n",
    "key_pressed = {key:False for key in ord_list}\n",
    "key_sound = {ord_list[i]:sounds[i] for i in range(len(sounds))}\n",
    "\n",
    "p = pa.PyAudio()\n",
    "stream = p.open(format=pa.paInt16,\n",
    "                channels=2, rate=RATE, output=True)\n",
    "window_size = 320, 240\n",
    "screen = pygame.display.set_mode(window_size)\n",
    "pygame.display.flip()\n",
    "\n",
    "running = True\n",
    "while running:\n",
    "    for event in pygame.event.get():\n",
    "        if event.type == pygame.QUIT:\n",
    "            running = False\n",
    "        \n",
    "        if event.type == pygame.KEYDOWN:\n",
    "            if event.key == ord('q'):\n",
    "                running = False\n",
    "\n",
    "            if event.key in key_pressed:\n",
    "                key_pressed[event.key] = True\n",
    "            \n",
    "        if event.type == pygame.KEYUP:\n",
    "            if event.key in key_pressed:\n",
    "                key_pressed[event.key] = False\n",
    "\n",
    "    mixed_sound = np.zeros(round(DURATION * RATE))\n",
    "    count = 0\n",
    "    for key in key_pressed:\n",
    "        if key_pressed[key] == True:\n",
    "            # stream.write(key_sound[key])\n",
    "            count += 1\n",
    "            mixed_sound += key_sound[key]\n",
    "    mixed_sound /= count\n",
    "    sound = np.asarray([32767*mixed_sound, 32767*mixed_sound]).T.astype(np.int16)\n",
    "    pygame.sndarray.make_sound(sound.copy()).play()\n",
    "\n",
    "\n",
    "pygame.quit()\n",
    "stream.stop_stream()\n",
    "stream.close()\n",
    "p.terminate()"
   ]
  },
  {
   "cell_type": "code",
   "execution_count": null,
   "metadata": {},
   "outputs": [],
   "source": []
  }
 ],
 "metadata": {
  "kernelspec": {
   "display_name": "Python 3.10.7 64-bit",
   "language": "python",
   "name": "python3"
  },
  "language_info": {
   "codemirror_mode": {
    "name": "ipython",
    "version": 3
   },
   "file_extension": ".py",
   "mimetype": "text/x-python",
   "name": "python",
   "nbconvert_exporter": "python",
   "pygments_lexer": "ipython3",
   "version": "3.10.7"
  },
  "orig_nbformat": 4,
  "vscode": {
   "interpreter": {
    "hash": "aee8b7b246df8f9039afb4144a1f6fd8d2ca17a180786b69acc140d282b71a49"
   }
  }
 },
 "nbformat": 4,
 "nbformat_minor": 2
}
